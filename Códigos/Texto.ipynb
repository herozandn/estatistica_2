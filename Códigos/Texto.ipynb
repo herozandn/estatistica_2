{
 "cells": [
  {
   "cell_type": "markdown",
   "id": "49de2aed-1583-4f01-8acb-485367957baa",
   "metadata": {},
   "source": [
    "# Importando bibliotecas e lendo arquivos"
   ]
  },
  {
   "cell_type": "code",
   "execution_count": 1,
   "id": "96033b20-d58f-4c57-95ac-69564a5eaa42",
   "metadata": {
    "tags": []
   },
   "outputs": [],
   "source": [
    "import pandas as pd\n",
    "from scipy.stats import geom\n",
    "import matplotlib.pyplot as plt\n",
    "import numpy as np\n",
    "from scipy.stats import ttest_ind\n",
    "from scipy.stats import norm"
   ]
  },
  {
   "cell_type": "code",
   "execution_count": 63,
   "id": "24f56d76-238f-4612-a9d0-bc461df6f7ec",
   "metadata": {
    "tags": []
   },
   "outputs": [],
   "source": [
    "tabela = pd.read_csv('campeonato-brasileiro-full.csv')\n",
    "cheio = pd.read_csv('campeonato-brasileiro-estatisticas-full.csv')"
   ]
  },
  {
   "cell_type": "code",
   "execution_count": 3,
   "id": "dbdd03d7-c81e-42ec-90c4-6708274b2bbf",
   "metadata": {
    "tags": []
   },
   "outputs": [],
   "source": [
    "# Limpanda o dataframe\n",
    "del tabela['formacao_mandante']\n",
    "del tabela['formacao_visitante']\n",
    "del tabela['tecnico_mandante']\n",
    "del tabela['tecnico_visitante']\n",
    "del tabela['arena']\n",
    "del tabela['hora']"
   ]
  },
  {
   "cell_type": "code",
   "execution_count": 4,
   "id": "37f5d54f-13dd-4afa-adbd-ad70ecc13c3e",
   "metadata": {
    "tags": []
   },
   "outputs": [
    {
     "data": {
      "text/html": [
       "<div>\n",
       "<style scoped>\n",
       "    .dataframe tbody tr th:only-of-type {\n",
       "        vertical-align: middle;\n",
       "    }\n",
       "\n",
       "    .dataframe tbody tr th {\n",
       "        vertical-align: top;\n",
       "    }\n",
       "\n",
       "    .dataframe thead th {\n",
       "        text-align: right;\n",
       "    }\n",
       "</style>\n",
       "<table border=\"1\" class=\"dataframe\">\n",
       "  <thead>\n",
       "    <tr style=\"text-align: right;\">\n",
       "      <th></th>\n",
       "      <th>ID</th>\n",
       "      <th>rodata</th>\n",
       "      <th>data</th>\n",
       "      <th>mandante</th>\n",
       "      <th>visitante</th>\n",
       "      <th>vencedor</th>\n",
       "      <th>mandante_Placar</th>\n",
       "      <th>visitante_Placar</th>\n",
       "      <th>mandante_Estado</th>\n",
       "      <th>visitante_Estado</th>\n",
       "    </tr>\n",
       "  </thead>\n",
       "  <tbody>\n",
       "    <tr>\n",
       "      <th>0</th>\n",
       "      <td>1</td>\n",
       "      <td>1</td>\n",
       "      <td>29/3/2003</td>\n",
       "      <td>Guarani</td>\n",
       "      <td>Vasco</td>\n",
       "      <td>Guarani</td>\n",
       "      <td>4</td>\n",
       "      <td>2</td>\n",
       "      <td>SP</td>\n",
       "      <td>RJ</td>\n",
       "    </tr>\n",
       "    <tr>\n",
       "      <th>1</th>\n",
       "      <td>2</td>\n",
       "      <td>1</td>\n",
       "      <td>29/3/2003</td>\n",
       "      <td>Athletico-PR</td>\n",
       "      <td>Gremio</td>\n",
       "      <td>Athletico-PR</td>\n",
       "      <td>2</td>\n",
       "      <td>0</td>\n",
       "      <td>PR</td>\n",
       "      <td>RS</td>\n",
       "    </tr>\n",
       "    <tr>\n",
       "      <th>2</th>\n",
       "      <td>3</td>\n",
       "      <td>1</td>\n",
       "      <td>30/3/2003</td>\n",
       "      <td>Flamengo</td>\n",
       "      <td>Coritiba</td>\n",
       "      <td>-</td>\n",
       "      <td>1</td>\n",
       "      <td>1</td>\n",
       "      <td>RJ</td>\n",
       "      <td>PR</td>\n",
       "    </tr>\n",
       "    <tr>\n",
       "      <th>3</th>\n",
       "      <td>4</td>\n",
       "      <td>1</td>\n",
       "      <td>30/3/2003</td>\n",
       "      <td>Goias</td>\n",
       "      <td>Paysandu</td>\n",
       "      <td>-</td>\n",
       "      <td>2</td>\n",
       "      <td>2</td>\n",
       "      <td>GO</td>\n",
       "      <td>PA</td>\n",
       "    </tr>\n",
       "    <tr>\n",
       "      <th>4</th>\n",
       "      <td>5</td>\n",
       "      <td>1</td>\n",
       "      <td>30/3/2003</td>\n",
       "      <td>Internacional</td>\n",
       "      <td>Ponte Preta</td>\n",
       "      <td>-</td>\n",
       "      <td>1</td>\n",
       "      <td>1</td>\n",
       "      <td>RS</td>\n",
       "      <td>SP</td>\n",
       "    </tr>\n",
       "    <tr>\n",
       "      <th>...</th>\n",
       "      <td>...</td>\n",
       "      <td>...</td>\n",
       "      <td>...</td>\n",
       "      <td>...</td>\n",
       "      <td>...</td>\n",
       "      <td>...</td>\n",
       "      <td>...</td>\n",
       "      <td>...</td>\n",
       "      <td>...</td>\n",
       "      <td>...</td>\n",
       "    </tr>\n",
       "    <tr>\n",
       "      <th>8020</th>\n",
       "      <td>8021</td>\n",
       "      <td>38</td>\n",
       "      <td>13/11/2022</td>\n",
       "      <td>Cuiaba</td>\n",
       "      <td>Coritiba</td>\n",
       "      <td>Cuiaba</td>\n",
       "      <td>2</td>\n",
       "      <td>1</td>\n",
       "      <td>MT</td>\n",
       "      <td>PR</td>\n",
       "    </tr>\n",
       "    <tr>\n",
       "      <th>8021</th>\n",
       "      <td>8022</td>\n",
       "      <td>38</td>\n",
       "      <td>13/11/2022</td>\n",
       "      <td>Bragantino</td>\n",
       "      <td>Fluminense</td>\n",
       "      <td>Fluminense</td>\n",
       "      <td>0</td>\n",
       "      <td>1</td>\n",
       "      <td>SP</td>\n",
       "      <td>RJ</td>\n",
       "    </tr>\n",
       "    <tr>\n",
       "      <th>8022</th>\n",
       "      <td>8023</td>\n",
       "      <td>38</td>\n",
       "      <td>13/11/2022</td>\n",
       "      <td>Corinthians</td>\n",
       "      <td>Atletico-MG</td>\n",
       "      <td>Atletico-MG</td>\n",
       "      <td>0</td>\n",
       "      <td>1</td>\n",
       "      <td>SP</td>\n",
       "      <td>MG</td>\n",
       "    </tr>\n",
       "    <tr>\n",
       "      <th>8023</th>\n",
       "      <td>8024</td>\n",
       "      <td>38</td>\n",
       "      <td>13/11/2022</td>\n",
       "      <td>Internacional</td>\n",
       "      <td>Palmeiras</td>\n",
       "      <td>Internacional</td>\n",
       "      <td>3</td>\n",
       "      <td>0</td>\n",
       "      <td>RS</td>\n",
       "      <td>SP</td>\n",
       "    </tr>\n",
       "    <tr>\n",
       "      <th>8024</th>\n",
       "      <td>8025</td>\n",
       "      <td>38</td>\n",
       "      <td>13/11/2022</td>\n",
       "      <td>Goias</td>\n",
       "      <td>Sao Paulo</td>\n",
       "      <td>Sao Paulo</td>\n",
       "      <td>0</td>\n",
       "      <td>4</td>\n",
       "      <td>GO</td>\n",
       "      <td>SP</td>\n",
       "    </tr>\n",
       "  </tbody>\n",
       "</table>\n",
       "<p>8025 rows × 10 columns</p>\n",
       "</div>"
      ],
      "text/plain": [
       "        ID  rodata        data       mandante    visitante       vencedor  \\\n",
       "0        1       1   29/3/2003        Guarani        Vasco        Guarani   \n",
       "1        2       1   29/3/2003   Athletico-PR       Gremio   Athletico-PR   \n",
       "2        3       1   30/3/2003       Flamengo     Coritiba              -   \n",
       "3        4       1   30/3/2003          Goias     Paysandu              -   \n",
       "4        5       1   30/3/2003  Internacional  Ponte Preta              -   \n",
       "...    ...     ...         ...            ...          ...            ...   \n",
       "8020  8021      38  13/11/2022         Cuiaba     Coritiba         Cuiaba   \n",
       "8021  8022      38  13/11/2022     Bragantino   Fluminense     Fluminense   \n",
       "8022  8023      38  13/11/2022    Corinthians  Atletico-MG    Atletico-MG   \n",
       "8023  8024      38  13/11/2022  Internacional    Palmeiras  Internacional   \n",
       "8024  8025      38  13/11/2022          Goias    Sao Paulo      Sao Paulo   \n",
       "\n",
       "      mandante_Placar  visitante_Placar mandante_Estado visitante_Estado  \n",
       "0                   4                 2              SP               RJ  \n",
       "1                   2                 0              PR               RS  \n",
       "2                   1                 1              RJ               PR  \n",
       "3                   2                 2              GO               PA  \n",
       "4                   1                 1              RS               SP  \n",
       "...               ...               ...             ...              ...  \n",
       "8020                2                 1              MT               PR  \n",
       "8021                0                 1              SP               RJ  \n",
       "8022                0                 1              SP               MG  \n",
       "8023                3                 0              RS               SP  \n",
       "8024                0                 4              GO               SP  \n",
       "\n",
       "[8025 rows x 10 columns]"
      ]
     },
     "execution_count": 4,
     "metadata": {},
     "output_type": "execute_result"
    }
   ],
   "source": [
    "tabela"
   ]
  },
  {
   "cell_type": "markdown",
   "id": "a5920cd2-100e-4582-a057-7335ae8842e2",
   "metadata": {},
   "source": [
    "# Distribuição geométrica:\n",
    "---\n",
    "## Número de jogos até a primeira vitória"
   ]
  },
  {
   "cell_type": "code",
   "execution_count": 5,
   "id": "2cc6cbca-b71b-4146-b0f3-384645d79444",
   "metadata": {
    "tags": []
   },
   "outputs": [],
   "source": [
    "# Função que calcula, em média, quantos jogos são necessários até a primeira vitória\n",
    "def previsao(x):\n",
    "    distribuicao = geom(x)\n",
    "    media = distribuicao.mean()\n",
    "    return round(media, 0)"
   ]
  },
  {
   "cell_type": "code",
   "execution_count": 6,
   "id": "f4b38257-271e-429a-8963-af2c99761660",
   "metadata": {
    "tags": []
   },
   "outputs": [],
   "source": [
    "equipes = ['Corinthians', 'Palmeiras', 'Santos', 'Gremio', 'Cruzeiro',\n",
    "          'Flamengo', 'Vasco', 'Cuiaba', 'Atletico-MG', 'Botafogo-RJ',\n",
    "          'Athletico-PR', 'Bahia', 'Sao Paulo', 'Fluminense', 'America-MG',\n",
    "          'Bragantino', 'Coritiba', 'Goias', 'Fortaleza', 'Internacional']"
   ]
  },
  {
   "cell_type": "code",
   "execution_count": 7,
   "id": "e6313c73-79b5-4735-98d2-76075deccd48",
   "metadata": {
    "tags": []
   },
   "outputs": [
    {
     "data": {
      "text/plain": [
       "{'Corinthians': 0.553,\n",
       " 'Palmeiras': 0.569,\n",
       " 'Santos': 0.574,\n",
       " 'Gremio': 0.583,\n",
       " 'Cruzeiro': 0.553,\n",
       " 'Flamengo': 0.55,\n",
       " 'Vasco': 0.441,\n",
       " 'Cuiaba': 0.342,\n",
       " 'Atletico-MG': 0.558,\n",
       " 'Botafogo-RJ': 0.458,\n",
       " 'Athletico-PR': 0.569,\n",
       " 'Bahia': 0.412,\n",
       " 'Sao Paulo': 0.567,\n",
       " 'Fluminense': 0.492,\n",
       " 'America-MG': 0.421,\n",
       " 'Bragantino': 0.439,\n",
       " 'Coritiba': 0.493,\n",
       " 'Goias': 0.489,\n",
       " 'Fortaleza': 0.46,\n",
       " 'Internacional': 0.593}"
      ]
     },
     "execution_count": 7,
     "metadata": {},
     "output_type": "execute_result"
    }
   ],
   "source": [
    "# Criando dicionário com as probabilidades de vitórias como mandante\n",
    "casa = {}\n",
    "    \n",
    "for time in equipes:\n",
    "    jogos_mandante = tabela[tabela['mandante'] == time]\n",
    "    vitorias_mandante = len(jogos_mandante[jogos_mandante['vencedor'] == time])\n",
    "    casa[time] = round(vitorias_mandante / len(jogos_mandante), 3)\n",
    "\n",
    "esp_casa = {}\n",
    "\n",
    "for time, valor in casa.items():\n",
    "    esp_casa[time] = previsao(valor)\n",
    "\n",
    "lista = []\n",
    "\n",
    "for time, valor in casa.items():\n",
    "    lista.append(valor)\n",
    "casa"
   ]
  },
  {
   "cell_type": "code",
   "execution_count": 8,
   "id": "f0dee5b5-6f5c-4c82-8727-ce028c4a7495",
   "metadata": {
    "tags": []
   },
   "outputs": [
    {
     "data": {
      "text/plain": [
       "{'Corinthians': 0.294,\n",
       " 'Palmeiras': 0.319,\n",
       " 'Santos': 0.269,\n",
       " 'Gremio': 0.26,\n",
       " 'Cruzeiro': 0.327,\n",
       " 'Flamengo': 0.309,\n",
       " 'Vasco': 0.224,\n",
       " 'Cuiaba': 0.184,\n",
       " 'Atletico-MG': 0.273,\n",
       " 'Botafogo-RJ': 0.238,\n",
       " 'Athletico-PR': 0.226,\n",
       " 'Bahia': 0.18,\n",
       " 'Sao Paulo': 0.333,\n",
       " 'Fluminense': 0.292,\n",
       " 'America-MG': 0.137,\n",
       " 'Bragantino': 0.228,\n",
       " 'Coritiba': 0.163,\n",
       " 'Goias': 0.236,\n",
       " 'Fortaleza': 0.209,\n",
       " 'Internacional': 0.28}"
      ]
     },
     "execution_count": 8,
     "metadata": {},
     "output_type": "execute_result"
    }
   ],
   "source": [
    "# Criando dicionário com as probabilidades de vitórias como visitante\n",
    "fora = {}\n",
    "    \n",
    "for time in equipes:\n",
    "    jogos_visitante = tabela[tabela['visitante'] == time]\n",
    "    vitorias_visitante = len(jogos_visitante[jogos_visitante['vencedor'] == time])\n",
    "    fora[time] = round(vitorias_visitante / len(jogos_visitante), 3)\n",
    "\n",
    "esp_fora = {}\n",
    "\n",
    "for time, valor in fora.items():\n",
    "    esp_fora[time] = previsao(valor)\n",
    "    \n",
    "fora\n",
    "\n",
    "lista_2 = []\n",
    "\n",
    "for time, valor in fora.items():\n",
    "    lista_2.append(valor)\n",
    "    \n",
    "fora"
   ]
  },
  {
   "cell_type": "code",
   "execution_count": 9,
   "id": "76ad9d67-e91d-4f95-8359-bc47c41b7d66",
   "metadata": {
    "tags": []
   },
   "outputs": [],
   "source": [
    "# Criando dicionário com as probabilidades de vitórias de todos os times\n",
    "todos = {}\n",
    "\n",
    "for time in equipes:\n",
    "    jogo_mandante = tabela[tabela['mandante'] == time]\n",
    "    jogo_visitante = tabela[tabela['visitante'] == time]\n",
    "    vitoria = tabela[tabela['vencedor'] == time]\n",
    "    todos[time] = round(len(vitoria) / (len(jogo_mandante) + len(jogo_visitante)), 3)\n",
    "    \n",
    "esp = {}\n",
    "\n",
    "for time, valor in todos.items():\n",
    "    esp[time] = previsao(valor)"
   ]
  },
  {
   "cell_type": "code",
   "execution_count": 10,
   "id": "0c519a96-f1a8-48c5-bd0d-76708ef50825",
   "metadata": {
    "tags": []
   },
   "outputs": [
    {
     "name": "stdout",
     "output_type": "stream",
     "text": [
      "Há diferenças significativas entre as médias.\n"
     ]
    }
   ],
   "source": [
    "# Dados dos jogos em casa e fora\n",
    "jogos_casa = lista\n",
    "jogos_fora = lista_2\n",
    "\n",
    "# Aplicação do teste t de Student\n",
    "statistic, p_value = ttest_ind(jogos_casa, jogos_fora, equal_var=True)\n",
    "\n",
    "# Interpretação do resultado\n",
    "if p_value < 0.05:\n",
    "    print(\"Há diferenças significativas entre as médias.\")\n",
    "else:\n",
    "    print(\"Não há evidências suficientes para afirmar diferenças significativas.\")"
   ]
  },
  {
   "cell_type": "code",
   "execution_count": 11,
   "id": "00ca13c1-417e-4ed0-adc3-9df4766f21a9",
   "metadata": {
    "tags": []
   },
   "outputs": [
    {
     "data": {
      "image/png": "[encoded data removed]",
      "text/plain": [
       "<Figure size 640x480 with 1 Axes>"
      ]
     },
     "metadata": {},
     "output_type": "display_data"
    }
   ],
   "source": [
    "# Gráfico\n",
    "\n",
    "x = list(esp.keys())\n",
    "y = list(esp.values())\n",
    "\n",
    "plt.scatter(x, y, marker='.') \n",
    "\n",
    "plt.xlabel('Times') \n",
    "plt.ylabel('Média')\n",
    "\n",
    "plt.title('Média de jogos até primeira vitória')\n",
    "\n",
    "plt.xticks(rotation=60, fontsize=7)\n",
    "plt.yticks(y)\n",
    "\n",
    "plt.savefig('Distribuição geométrica.png', dpi=300)\n",
    "\n",
    "plt.show()"
   ]
  },
  {
   "cell_type": "markdown",
   "id": "b4e7bea3-5fe0-4d47-b334-fa3f54810815",
   "metadata": {},
   "source": [
    "# Intervalo de confiança:\n",
    "---\n",
    "## Média de gols por jogo"
   ]
  },
  {
   "cell_type": "code",
   "execution_count": 87,
   "id": "8a4f5b5a-0745-4500-acc2-da2ad2418612",
   "metadata": {
    "tags": []
   },
   "outputs": [
    {
     "data": {
      "text/html": [
       "<div>\n",
       "<style scoped>\n",
       "    .dataframe tbody tr th:only-of-type {\n",
       "        vertical-align: middle;\n",
       "    }\n",
       "\n",
       "    .dataframe tbody tr th {\n",
       "        vertical-align: top;\n",
       "    }\n",
       "\n",
       "    .dataframe thead th {\n",
       "        text-align: right;\n",
       "    }\n",
       "</style>\n",
       "<table border=\"1\" class=\"dataframe\">\n",
       "  <thead>\n",
       "    <tr style=\"text-align: right;\">\n",
       "      <th></th>\n",
       "      <th>partida_id</th>\n",
       "      <th>rodata</th>\n",
       "      <th>clube</th>\n",
       "      <th>chutes</th>\n",
       "      <th>chutes_no_alvo</th>\n",
       "      <th>posse_de_bola</th>\n",
       "      <th>passes</th>\n",
       "      <th>precisao_passes</th>\n",
       "      <th>faltas</th>\n",
       "      <th>cartao_amarelo</th>\n",
       "      <th>cartao_vermelho</th>\n",
       "      <th>impedimentos</th>\n",
       "      <th>escanteios</th>\n",
       "    </tr>\n",
       "  </thead>\n",
       "  <tbody>\n",
       "    <tr>\n",
       "      <th>15290</th>\n",
       "      <td>7646</td>\n",
       "      <td>1</td>\n",
       "      <td>Fluminense</td>\n",
       "      <td>26</td>\n",
       "      <td>6</td>\n",
       "      <td>66%</td>\n",
       "      <td>545</td>\n",
       "      <td>88%</td>\n",
       "      <td>14</td>\n",
       "      <td>1</td>\n",
       "      <td>0</td>\n",
       "      <td>0</td>\n",
       "      <td>8</td>\n",
       "    </tr>\n",
       "    <tr>\n",
       "      <th>15317</th>\n",
       "      <td>7659</td>\n",
       "      <td>2</td>\n",
       "      <td>Fluminense</td>\n",
       "      <td>12</td>\n",
       "      <td>3</td>\n",
       "      <td>62%</td>\n",
       "      <td>525</td>\n",
       "      <td>86%</td>\n",
       "      <td>14</td>\n",
       "      <td>1</td>\n",
       "      <td>0</td>\n",
       "      <td>0</td>\n",
       "      <td>5</td>\n",
       "    </tr>\n",
       "    <tr>\n",
       "      <th>15338</th>\n",
       "      <td>7679</td>\n",
       "      <td>3</td>\n",
       "      <td>Fluminense</td>\n",
       "      <td>12</td>\n",
       "      <td>2</td>\n",
       "      <td>58%</td>\n",
       "      <td>503</td>\n",
       "      <td>85%</td>\n",
       "      <td>15</td>\n",
       "      <td>5</td>\n",
       "      <td>0</td>\n",
       "      <td>4</td>\n",
       "      <td>5</td>\n",
       "    </tr>\n",
       "    <tr>\n",
       "      <th>15363</th>\n",
       "      <td>7673</td>\n",
       "      <td>4</td>\n",
       "      <td>Fluminense</td>\n",
       "      <td>7</td>\n",
       "      <td>4</td>\n",
       "      <td>45%</td>\n",
       "      <td>386</td>\n",
       "      <td>81%</td>\n",
       "      <td>16</td>\n",
       "      <td>2</td>\n",
       "      <td>1</td>\n",
       "      <td>2</td>\n",
       "      <td>1</td>\n",
       "    </tr>\n",
       "    <tr>\n",
       "      <th>15375</th>\n",
       "      <td>7689</td>\n",
       "      <td>5</td>\n",
       "      <td>Fluminense</td>\n",
       "      <td>8</td>\n",
       "      <td>2</td>\n",
       "      <td>52%</td>\n",
       "      <td>403</td>\n",
       "      <td>83%</td>\n",
       "      <td>13</td>\n",
       "      <td>2</td>\n",
       "      <td>0</td>\n",
       "      <td>0</td>\n",
       "      <td>3</td>\n",
       "    </tr>\n",
       "  </tbody>\n",
       "</table>\n",
       "</div>"
      ],
      "text/plain": [
       "       partida_id  rodata       clube  chutes  chutes_no_alvo posse_de_bola  \\\n",
       "15290        7646       1  Fluminense      26               6           66%   \n",
       "15317        7659       2  Fluminense      12               3           62%   \n",
       "15338        7679       3  Fluminense      12               2           58%   \n",
       "15363        7673       4  Fluminense       7               4           45%   \n",
       "15375        7689       5  Fluminense       8               2           52%   \n",
       "\n",
       "       passes precisao_passes  faltas  cartao_amarelo  cartao_vermelho  \\\n",
       "15290     545             88%      14               1                0   \n",
       "15317     525             86%      14               1                0   \n",
       "15338     503             85%      15               5                0   \n",
       "15363     386             81%      16               2                1   \n",
       "15375     403             83%      13               2                0   \n",
       "\n",
       "       impedimentos  escanteios  \n",
       "15290             0           8  \n",
       "15317             0           5  \n",
       "15338             4           5  \n",
       "15363             2           1  \n",
       "15375             0           3  "
      ]
     },
     "execution_count": 87,
     "metadata": {},
     "output_type": "execute_result"
    }
   ],
   "source": [
    "bra = cheio[cheio['partida_id'] >= 7646]\n",
    "bra = bra[bra['clube'] == 'Fluminense']\n",
    "bra.head()"
   ]
  },
  {
   "cell_type": "code",
   "execution_count": 102,
   "id": "f2f2ffed-7be4-4258-846a-dde09f70c883",
   "metadata": {
    "tags": []
   },
   "outputs": [
    {
     "data": {
      "text/plain": [
       "[66.0,\n",
       " 62.0,\n",
       " 58.0,\n",
       " 45.0,\n",
       " 52.0,\n",
       " 64.0,\n",
       " 36.0,\n",
       " 63.0,\n",
       " 52.0,\n",
       " 43.0,\n",
       " 47.0,\n",
       " 79.0,\n",
       " 49.0,\n",
       " 80.0,\n",
       " 58.0,\n",
       " 60.0,\n",
       " 64.0,\n",
       " 74.0,\n",
       " 61.0,\n",
       " 68.0,\n",
       " 65.0,\n",
       " 68.0,\n",
       " 64.0,\n",
       " 61.0,\n",
       " 74.0,\n",
       " 67.0,\n",
       " 51.0,\n",
       " 62.0,\n",
       " 71.0,\n",
       " 60.0,\n",
       " 63.0,\n",
       " 58.0,\n",
       " 65.0,\n",
       " 53.0,\n",
       " 71.0,\n",
       " 66.0,\n",
       " 77.0,\n",
       " 59.0]"
      ]
     },
     "execution_count": 102,
     "metadata": {},
     "output_type": "execute_result"
    }
   ],
   "source": [
    "posse = bra['posse_de_bola'].tolist()\n",
    "posse = [float(valor.strip('%')) for valor in posse]\n",
    "posse"
   ]
  },
  {
   "cell_type": "code",
   "execution_count": 110,
   "id": "d92cffcf-4ef8-46dc-8ad3-d31a93d0b538",
   "metadata": {
    "tags": []
   },
   "outputs": [
    {
     "name": "stdout",
     "output_type": "stream",
     "text": [
      "61.473684210526315 9.770354844887358\n"
     ]
    }
   ],
   "source": [
    "media = np.mean(posse)\n",
    "\n",
    "dp = np.std(posse)\n",
    "print(media, dp)"
   ]
  },
  {
   "cell_type": "code",
   "execution_count": null,
   "id": "5b909964-c641-48af-a464-d23ad32e1c44",
   "metadata": {
    "tags": []
   },
   "outputs": [],
   "source": [
    "from scipy.stats import shapiro\n",
    "import numpy as np\n",
    "\n",
    "# Gere alguns dados fictícios para o exemplo\n",
    "dados_posse_bola = np.random.normal(media, dp, 1000000000)  # Distribuição normal com média 0 e desvio padrão 1\n",
    "\n",
    "# Realize o teste de Shapiro-Wilk\n",
    "stat, p_valor = shapiro(posse)\n",
    "\n",
    "# Imprima os resultados\n",
    "print(f'Estatística de teste: {stat}')\n",
    "print(f'Valor p: {p_valor}')\n",
    "\n",
    "# Verifique se rejeitamos a hipótese nula\n",
    "alfa = 0.05\n",
    "if p_valor > alfa:\n",
    "    print('Não podemos rejeitar a hipótese nula (dados seguem uma distribuição normal)')\n",
    "else:\n",
    "    print('Rejeitamos a hipótese nula (dados não seguem uma distribuição normal)')"
   ]
  }
 ],
 "metadata": {
  "kernelspec": {
   "display_name": "Python 3 (ipykernel)",
   "language": "python",
   "name": "python3"
  },
  "language_info": {
   "codemirror_mode": {
    "name": "ipython",
    "version": 3
   },
   "file_extension": ".py",
   "mimetype": "text/x-python",
   "name": "python",
   "nbconvert_exporter": "python",
   "pygments_lexer": "ipython3",
   "version": "3.11.5"
  }
 },
 "nbformat": 4,
 "nbformat_minor": 5
}
