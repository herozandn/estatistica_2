{
 "cells": [
  {
   "cell_type": "markdown",
   "id": "49de2aed-1583-4f01-8acb-485367957baa",
   "metadata": {},
   "source": [
    "# Importando bibliotecas e lendo arquivos"
   ]
  },
  {
   "cell_type": "code",
   "execution_count": 2,
   "id": "96033b20-d58f-4c57-95ac-69564a5eaa42",
   "metadata": {
    "tags": []
   },
   "outputs": [],
   "source": [
    "import pandas as pd\n",
    "from scipy.stats import geom\n",
    "import matplotlib.pyplot as plt\n",
    "import numpy as np"
   ]
  },
  {
   "cell_type": "code",
   "execution_count": 37,
   "id": "24f56d76-238f-4612-a9d0-bc461df6f7ec",
   "metadata": {
    "tags": []
   },
   "outputs": [],
   "source": [
    "tabela = pd.read_csv('campeonato-brasileiro-full.csv')"
   ]
  },
  {
   "cell_type": "code",
   "execution_count": 38,
   "id": "dbdd03d7-c81e-42ec-90c4-6708274b2bbf",
   "metadata": {
    "tags": []
   },
   "outputs": [],
   "source": [
    "# Limpanda o dataframe\n",
    "del tabela['formacao_mandante']\n",
    "del tabela['formacao_visitante']\n",
    "del tabela['tecnico_mandante']\n",
    "del tabela['tecnico_visitante']\n",
    "del tabela['arena']\n",
    "del tabela['hora']"
   ]
  },
  {
   "cell_type": "code",
   "execution_count": 39,
   "id": "37f5d54f-13dd-4afa-adbd-ad70ecc13c3e",
   "metadata": {
    "tags": []
   },
   "outputs": [
    {
     "data": {
      "text/html": [
       "<div>\n",
       "<style scoped>\n",
       "    .dataframe tbody tr th:only-of-type {\n",
       "        vertical-align: middle;\n",
       "    }\n",
       "\n",
       "    .dataframe tbody tr th {\n",
       "        vertical-align: top;\n",
       "    }\n",
       "\n",
       "    .dataframe thead th {\n",
       "        text-align: right;\n",
       "    }\n",
       "</style>\n",
       "<table border=\"1\" class=\"dataframe\">\n",
       "  <thead>\n",
       "    <tr style=\"text-align: right;\">\n",
       "      <th></th>\n",
       "      <th>ID</th>\n",
       "      <th>rodata</th>\n",
       "      <th>data</th>\n",
       "      <th>mandante</th>\n",
       "      <th>visitante</th>\n",
       "      <th>vencedor</th>\n",
       "      <th>mandante_Placar</th>\n",
       "      <th>visitante_Placar</th>\n",
       "      <th>mandante_Estado</th>\n",
       "      <th>visitante_Estado</th>\n",
       "    </tr>\n",
       "  </thead>\n",
       "  <tbody>\n",
       "    <tr>\n",
       "      <th>0</th>\n",
       "      <td>1</td>\n",
       "      <td>1</td>\n",
       "      <td>29/3/2003</td>\n",
       "      <td>Guarani</td>\n",
       "      <td>Vasco</td>\n",
       "      <td>Guarani</td>\n",
       "      <td>4</td>\n",
       "      <td>2</td>\n",
       "      <td>SP</td>\n",
       "      <td>RJ</td>\n",
       "    </tr>\n",
       "    <tr>\n",
       "      <th>1</th>\n",
       "      <td>2</td>\n",
       "      <td>1</td>\n",
       "      <td>29/3/2003</td>\n",
       "      <td>Athletico-PR</td>\n",
       "      <td>Gremio</td>\n",
       "      <td>Athletico-PR</td>\n",
       "      <td>2</td>\n",
       "      <td>0</td>\n",
       "      <td>PR</td>\n",
       "      <td>RS</td>\n",
       "    </tr>\n",
       "    <tr>\n",
       "      <th>2</th>\n",
       "      <td>3</td>\n",
       "      <td>1</td>\n",
       "      <td>30/3/2003</td>\n",
       "      <td>Flamengo</td>\n",
       "      <td>Coritiba</td>\n",
       "      <td>-</td>\n",
       "      <td>1</td>\n",
       "      <td>1</td>\n",
       "      <td>RJ</td>\n",
       "      <td>PR</td>\n",
       "    </tr>\n",
       "    <tr>\n",
       "      <th>3</th>\n",
       "      <td>4</td>\n",
       "      <td>1</td>\n",
       "      <td>30/3/2003</td>\n",
       "      <td>Goias</td>\n",
       "      <td>Paysandu</td>\n",
       "      <td>-</td>\n",
       "      <td>2</td>\n",
       "      <td>2</td>\n",
       "      <td>GO</td>\n",
       "      <td>PA</td>\n",
       "    </tr>\n",
       "    <tr>\n",
       "      <th>4</th>\n",
       "      <td>5</td>\n",
       "      <td>1</td>\n",
       "      <td>30/3/2003</td>\n",
       "      <td>Internacional</td>\n",
       "      <td>Ponte Preta</td>\n",
       "      <td>-</td>\n",
       "      <td>1</td>\n",
       "      <td>1</td>\n",
       "      <td>RS</td>\n",
       "      <td>SP</td>\n",
       "    </tr>\n",
       "    <tr>\n",
       "      <th>...</th>\n",
       "      <td>...</td>\n",
       "      <td>...</td>\n",
       "      <td>...</td>\n",
       "      <td>...</td>\n",
       "      <td>...</td>\n",
       "      <td>...</td>\n",
       "      <td>...</td>\n",
       "      <td>...</td>\n",
       "      <td>...</td>\n",
       "      <td>...</td>\n",
       "    </tr>\n",
       "    <tr>\n",
       "      <th>8020</th>\n",
       "      <td>8021</td>\n",
       "      <td>38</td>\n",
       "      <td>13/11/2022</td>\n",
       "      <td>Cuiaba</td>\n",
       "      <td>Coritiba</td>\n",
       "      <td>Cuiaba</td>\n",
       "      <td>2</td>\n",
       "      <td>1</td>\n",
       "      <td>MT</td>\n",
       "      <td>PR</td>\n",
       "    </tr>\n",
       "    <tr>\n",
       "      <th>8021</th>\n",
       "      <td>8022</td>\n",
       "      <td>38</td>\n",
       "      <td>13/11/2022</td>\n",
       "      <td>Bragantino</td>\n",
       "      <td>Fluminense</td>\n",
       "      <td>Fluminense</td>\n",
       "      <td>0</td>\n",
       "      <td>1</td>\n",
       "      <td>SP</td>\n",
       "      <td>RJ</td>\n",
       "    </tr>\n",
       "    <tr>\n",
       "      <th>8022</th>\n",
       "      <td>8023</td>\n",
       "      <td>38</td>\n",
       "      <td>13/11/2022</td>\n",
       "      <td>Corinthians</td>\n",
       "      <td>Atletico-MG</td>\n",
       "      <td>Atletico-MG</td>\n",
       "      <td>0</td>\n",
       "      <td>1</td>\n",
       "      <td>SP</td>\n",
       "      <td>MG</td>\n",
       "    </tr>\n",
       "    <tr>\n",
       "      <th>8023</th>\n",
       "      <td>8024</td>\n",
       "      <td>38</td>\n",
       "      <td>13/11/2022</td>\n",
       "      <td>Internacional</td>\n",
       "      <td>Palmeiras</td>\n",
       "      <td>Internacional</td>\n",
       "      <td>3</td>\n",
       "      <td>0</td>\n",
       "      <td>RS</td>\n",
       "      <td>SP</td>\n",
       "    </tr>\n",
       "    <tr>\n",
       "      <th>8024</th>\n",
       "      <td>8025</td>\n",
       "      <td>38</td>\n",
       "      <td>13/11/2022</td>\n",
       "      <td>Goias</td>\n",
       "      <td>Sao Paulo</td>\n",
       "      <td>Sao Paulo</td>\n",
       "      <td>0</td>\n",
       "      <td>4</td>\n",
       "      <td>GO</td>\n",
       "      <td>SP</td>\n",
       "    </tr>\n",
       "  </tbody>\n",
       "</table>\n",
       "<p>8025 rows × 10 columns</p>\n",
       "</div>"
      ],
      "text/plain": [
       "        ID  rodata        data       mandante    visitante       vencedor  \\\n",
       "0        1       1   29/3/2003        Guarani        Vasco        Guarani   \n",
       "1        2       1   29/3/2003   Athletico-PR       Gremio   Athletico-PR   \n",
       "2        3       1   30/3/2003       Flamengo     Coritiba              -   \n",
       "3        4       1   30/3/2003          Goias     Paysandu              -   \n",
       "4        5       1   30/3/2003  Internacional  Ponte Preta              -   \n",
       "...    ...     ...         ...            ...          ...            ...   \n",
       "8020  8021      38  13/11/2022         Cuiaba     Coritiba         Cuiaba   \n",
       "8021  8022      38  13/11/2022     Bragantino   Fluminense     Fluminense   \n",
       "8022  8023      38  13/11/2022    Corinthians  Atletico-MG    Atletico-MG   \n",
       "8023  8024      38  13/11/2022  Internacional    Palmeiras  Internacional   \n",
       "8024  8025      38  13/11/2022          Goias    Sao Paulo      Sao Paulo   \n",
       "\n",
       "      mandante_Placar  visitante_Placar mandante_Estado visitante_Estado  \n",
       "0                   4                 2              SP               RJ  \n",
       "1                   2                 0              PR               RS  \n",
       "2                   1                 1              RJ               PR  \n",
       "3                   2                 2              GO               PA  \n",
       "4                   1                 1              RS               SP  \n",
       "...               ...               ...             ...              ...  \n",
       "8020                2                 1              MT               PR  \n",
       "8021                0                 1              SP               RJ  \n",
       "8022                0                 1              SP               MG  \n",
       "8023                3                 0              RS               SP  \n",
       "8024                0                 4              GO               SP  \n",
       "\n",
       "[8025 rows x 10 columns]"
      ]
     },
     "execution_count": 39,
     "metadata": {},
     "output_type": "execute_result"
    }
   ],
   "source": [
    "tabela"
   ]
  },
  {
   "cell_type": "markdown",
   "id": "a5920cd2-100e-4582-a057-7335ae8842e2",
   "metadata": {},
   "source": [
    "# Distribuição geométrica"
   ]
  },
  {
   "cell_type": "code",
   "execution_count": 43,
   "id": "2cc6cbca-b71b-4146-b0f3-384645d79444",
   "metadata": {
    "tags": []
   },
   "outputs": [],
   "source": [
    "# Função que calcula, em média, quantos jogos são necessários até a primeira vitória\n",
    "def previsao(x):\n",
    "    distribuicao = geom(x)\n",
    "    media = distribuicao.mean()\n",
    "    return round(media, 0)"
   ]
  },
  {
   "cell_type": "code",
   "execution_count": 40,
   "id": "f4b38257-271e-429a-8963-af2c99761660",
   "metadata": {
    "tags": []
   },
   "outputs": [],
   "source": [
    "equipes = ['Corinthians', 'Palmeiras', 'Santos', 'Gremio', 'Cruzeiro',\n",
    "          'Flamengo', 'Vasco', 'Cuiaba', 'Atletico-MG', 'Botafogo-RJ',\n",
    "          'Athletico-PR', 'Bahia', 'Sao Paulo', 'Fluminense', 'America-MG',\n",
    "          'Bragantino', 'Coritiba', 'Goias', 'Fortaleza', 'Internacional']"
   ]
  },
  {
   "cell_type": "code",
   "execution_count": 106,
   "id": "e6313c73-79b5-4735-98d2-76075deccd48",
   "metadata": {
    "tags": []
   },
   "outputs": [
    {
     "data": {
      "text/plain": [
       "{'Corinthians': 0.5525606469002695,\n",
       " 'Palmeiras': 0.5689655172413793,\n",
       " 'Santos': 0.5743589743589743,\n",
       " 'Gremio': 0.5828571428571429,\n",
       " 'Cruzeiro': 0.5525525525525525,\n",
       " 'Flamengo': 0.5501285347043702,\n",
       " 'Vasco': 0.4406779661016949,\n",
       " 'Cuiaba': 0.34210526315789475,\n",
       " 'Atletico-MG': 0.5579514824797843,\n",
       " 'Botafogo-RJ': 0.4575757575757576,\n",
       " 'Athletico-PR': 0.568733153638814,\n",
       " 'Bahia': 0.41237113402061853,\n",
       " 'Sao Paulo': 0.5666666666666667,\n",
       " 'Fluminense': 0.49230769230769234,\n",
       " 'America-MG': 0.42105263157894735,\n",
       " 'Bragantino': 0.43859649122807015,\n",
       " 'Coritiba': 0.4927536231884058,\n",
       " 'Goias': 0.4891304347826087,\n",
       " 'Fortaleza': 0.460431654676259,\n",
       " 'Internacional': 0.5929919137466307}"
      ]
     },
     "execution_count": 106,
     "metadata": {},
     "output_type": "execute_result"
    }
   ],
   "source": [
    "# Criando dicionário com as probabilidades de vitórias como mandante\n",
    "casa = {}\n",
    "    \n",
    "for time in equipes:\n",
    "    jogos_mandante = tabela[tabela['mandante'] == time]\n",
    "    vitorias_mandante = len(jogos_mandante[jogos_mandante['vencedor'] == time])\n",
    "    casa[time] = vitorias_mandante / len(jogos_mandante)\n",
    "\n",
    "casa"
   ]
  },
  {
   "cell_type": "code",
   "execution_count": 107,
   "id": "f0dee5b5-6f5c-4c82-8727-ce028c4a7495",
   "metadata": {
    "tags": []
   },
   "outputs": [
    {
     "data": {
      "text/plain": [
       "{'Corinthians': 0.29380053908355797,\n",
       " 'Palmeiras': 0.31896551724137934,\n",
       " 'Santos': 0.2692307692307692,\n",
       " 'Gremio': 0.26,\n",
       " 'Cruzeiro': 0.32732732732732733,\n",
       " 'Flamengo': 0.309462915601023,\n",
       " 'Vasco': 0.22372881355932203,\n",
       " 'Cuiaba': 0.18421052631578946,\n",
       " 'Atletico-MG': 0.27297297297297296,\n",
       " 'Botafogo-RJ': 0.23780487804878048,\n",
       " 'Athletico-PR': 0.22641509433962265,\n",
       " 'Bahia': 0.18041237113402062,\n",
       " 'Sao Paulo': 0.3333333333333333,\n",
       " 'Fluminense': 0.2923076923076923,\n",
       " 'America-MG': 0.1368421052631579,\n",
       " 'Bragantino': 0.22807017543859648,\n",
       " 'Coritiba': 0.16304347826086957,\n",
       " 'Goias': 0.23550724637681159,\n",
       " 'Fortaleza': 0.20863309352517986,\n",
       " 'Internacional': 0.2803234501347709}"
      ]
     },
     "execution_count": 107,
     "metadata": {},
     "output_type": "execute_result"
    }
   ],
   "source": [
    "# Criando dicionário com as probabilidades de vitórias como visitante\n",
    "fora = {}\n",
    "    \n",
    "for time in equipes:\n",
    "    jogos_visitante = tabela[tabela['visitante'] == time]\n",
    "    vitorias_visitante = len(jogos_visitante[jogos_visitante['vencedor'] == time])\n",
    "    fora[time] = vitorias_visitante / len(jogos_visitante)\n",
    "\n",
    "fora"
   ]
  },
  {
   "cell_type": "code",
   "execution_count": 62,
   "id": "76ad9d67-e91d-4f95-8359-bc47c41b7d66",
   "metadata": {
    "tags": []
   },
   "outputs": [
    {
     "data": {
      "text/plain": [
       "{'Corinthians': 2.0,\n",
       " 'Palmeiras': 2.0,\n",
       " 'Santos': 2.0,\n",
       " 'Gremio': 2.0,\n",
       " 'Cruzeiro': 2.0,\n",
       " 'Flamengo': 2.0,\n",
       " 'Vasco': 3.0,\n",
       " 'Cuiaba': 4.0,\n",
       " 'Atletico-MG': 2.0,\n",
       " 'Botafogo-RJ': 3.0,\n",
       " 'Athletico-PR': 3.0,\n",
       " 'Bahia': 3.0,\n",
       " 'Sao Paulo': 2.0,\n",
       " 'Fluminense': 3.0,\n",
       " 'America-MG': 4.0,\n",
       " 'Bragantino': 3.0,\n",
       " 'Coritiba': 3.0,\n",
       " 'Goias': 3.0,\n",
       " 'Fortaleza': 3.0,\n",
       " 'Internacional': 2.0}"
      ]
     },
     "execution_count": 62,
     "metadata": {},
     "output_type": "execute_result"
    }
   ],
   "source": [
    "# Criando dicionário com as probabilidades de vitórias de todos os times\n",
    "todos = {}\n",
    "\n",
    "for time in equipes:\n",
    "    todos[time] = round(len(tabela[tabela['vencedor'] == time]) / (len(tabela[tabela['mandante'] == time]) + len(tabela[tabela['visitante'] == time])), 3)\n",
    "\n",
    "todos\n",
    "\n",
    "# Dicionário, com todos os times, da média de jogos até a primeira vitória \n",
    "esp = {}\n",
    "for time, valor in todos.items():\n",
    "    esp[time] = previsao(valor)\n",
    "\n",
    "esp"
   ]
  },
  {
   "cell_type": "code",
   "execution_count": 45,
   "id": "00ca13c1-417e-4ed0-adc3-9df4766f21a9",
   "metadata": {
    "tags": []
   },
   "outputs": [
    {
     "data": {
      "image/png": "[encoded data removed]",
      "text/plain": [
       "<Figure size 640x480 with 1 Axes>"
      ]
     },
     "metadata": {},
     "output_type": "display_data"
    }
   ],
   "source": [
    "# Gráfico\n",
    "\n",
    "x = list(esp.keys())\n",
    "y = list(esp.values())\n",
    "\n",
    "plt.scatter(x, y, marker='.') \n",
    "\n",
    "plt.xlabel('Times') \n",
    "plt.ylabel('Média')\n",
    "\n",
    "plt.title('Média de jogos até primeira vitória')\n",
    "\n",
    "plt.xticks(rotation=45, fontsize=7)\n",
    "plt.yticks(y)\n",
    "\n",
    "plt.savefig('Distribuição geométrica.png', dpi=300)\n",
    "\n",
    "plt.show()"
   ]
  }
 ],
 "metadata": {
  "kernelspec": {
   "display_name": "Python 3 (ipykernel)",
   "language": "python",
   "name": "python3"
  },
  "language_info": {
   "codemirror_mode": {
    "name": "ipython",
    "version": 3
   },
   "file_extension": ".py",
   "mimetype": "text/x-python",
   "name": "python",
   "nbconvert_exporter": "python",
   "pygments_lexer": "ipython3",
   "version": "3.11.5"
  }
 },
 "nbformat": 4,
 "nbformat_minor": 5
}
