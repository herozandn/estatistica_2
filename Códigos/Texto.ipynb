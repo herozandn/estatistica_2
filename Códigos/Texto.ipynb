{
 "cells": [
  {
   "cell_type": "markdown",
   "id": "49de2aed-1583-4f01-8acb-485367957baa",
   "metadata": {},
   "source": [
    "# Importando bibliotecas e lendo arquivos"
   ]
  },
  {
   "cell_type": "code",
   "execution_count": 205,
   "id": "96033b20-d58f-4c57-95ac-69564a5eaa42",
   "metadata": {
    "tags": []
   },
   "outputs": [],
   "source": [
    "import pandas as pd\n",
    "from scipy.stats import geom\n",
    "import matplotlib.pyplot as plt\n",
    "import numpy as np"
   ]
  },
  {
   "cell_type": "code",
   "execution_count": 80,
   "id": "24f56d76-238f-4612-a9d0-bc461df6f7ec",
   "metadata": {
    "tags": []
   },
   "outputs": [],
   "source": [
    "tabela = pd.read_csv('campeonato-brasileiro-full.csv')"
   ]
  },
  {
   "cell_type": "code",
   "execution_count": 81,
   "id": "dbdd03d7-c81e-42ec-90c4-6708274b2bbf",
   "metadata": {
    "tags": []
   },
   "outputs": [],
   "source": [
    "# Limpanda o dataframe\n",
    "del tabela['formacao_mandante']\n",
    "del tabela['formacao_visitante']\n",
    "del tabela['tecnico_mandante']\n",
    "del tabela['tecnico_visitante']\n",
    "del tabela['arena']"
   ]
  },
  {
   "cell_type": "markdown",
   "id": "a5920cd2-100e-4582-a057-7335ae8842e2",
   "metadata": {},
   "source": [
    "# Distribuição geométrica"
   ]
  },
  {
   "cell_type": "code",
   "execution_count": 155,
   "id": "2168d8dc-7b71-4ffe-9ee3-076b635135c0",
   "metadata": {
    "collapsed": true,
    "jupyter": {
     "outputs_hidden": true
    },
    "tags": []
   },
   "outputs": [
    {
     "data": {
      "text/plain": [
       "['Guarani',\n",
       " 'Athletico-PR',\n",
       " 'Flamengo',\n",
       " 'Goias',\n",
       " 'Internacional',\n",
       " 'Criciuma',\n",
       " 'Juventude',\n",
       " 'Fortaleza',\n",
       " 'Cruzeiro',\n",
       " 'Vitoria',\n",
       " 'Santos',\n",
       " 'Corinthians',\n",
       " 'Fluminense',\n",
       " 'Atletico-MG',\n",
       " 'Coritiba',\n",
       " 'Gremio',\n",
       " 'Bahia',\n",
       " 'Figueirense',\n",
       " 'Paysandu',\n",
       " 'Ponte Preta',\n",
       " 'Parana',\n",
       " 'Sao Caetano',\n",
       " 'Sao Paulo',\n",
       " 'Vasco',\n",
       " 'Botafogo-RJ',\n",
       " 'Palmeiras',\n",
       " 'Brasiliense',\n",
       " 'Santa Cruz',\n",
       " 'America-RN',\n",
       " 'Sport',\n",
       " 'Nautico',\n",
       " 'Ipatinga',\n",
       " 'Portuguesa',\n",
       " 'Avai',\n",
       " 'Santo Andre',\n",
       " 'Barueri',\n",
       " 'Atletico-GO',\n",
       " 'Ceara',\n",
       " 'Gremio Prudente',\n",
       " 'America-MG',\n",
       " 'Chapecoense',\n",
       " 'Joinville',\n",
       " 'CSA',\n",
       " 'Bragantino',\n",
       " 'Cuiaba']"
      ]
     },
     "execution_count": 155,
     "metadata": {},
     "output_type": "execute_result"
    }
   ],
   "source": [
    "# Lista com todos os participantes\n",
    "times = []\n",
    "\n",
    "for x in tabela['mandante']:\n",
    "    if x not in times:\n",
    "        times.append(x)\n",
    "\n",
    "times"
   ]
  },
  {
   "cell_type": "code",
   "execution_count": 138,
   "id": "76ad9d67-e91d-4f95-8359-bc47c41b7d66",
   "metadata": {
    "collapsed": true,
    "jupyter": {
     "outputs_hidden": true
    },
    "tags": []
   },
   "outputs": [
    {
     "data": {
      "text/plain": [
       "{'Guarani': 0.277,\n",
       " 'Athletico-PR': 0.398,\n",
       " 'Flamengo': 0.429,\n",
       " 'Goias': 0.362,\n",
       " 'Internacional': 0.437,\n",
       " 'Criciuma': 0.298,\n",
       " 'Juventude': 0.297,\n",
       " 'Fortaleza': 0.335,\n",
       " 'Cruzeiro': 0.44,\n",
       " 'Vitoria': 0.311,\n",
       " 'Santos': 0.422,\n",
       " 'Corinthians': 0.423,\n",
       " 'Fluminense': 0.392,\n",
       " 'Atletico-MG': 0.416,\n",
       " 'Coritiba': 0.328,\n",
       " 'Gremio': 0.421,\n",
       " 'Bahia': 0.296,\n",
       " 'Figueirense': 0.324,\n",
       " 'Paysandu': 0.306,\n",
       " 'Ponte Preta': 0.315,\n",
       " 'Parana': 0.335,\n",
       " 'Sao Caetano': 0.378,\n",
       " 'Sao Paulo': 0.45,\n",
       " 'Vasco': 0.332,\n",
       " 'Botafogo-RJ': 0.348,\n",
       " 'Palmeiras': 0.444,\n",
       " 'Brasiliense': 0.238,\n",
       " 'Santa Cruz': 0.197,\n",
       " 'America-RN': 0.105,\n",
       " 'Sport': 0.313,\n",
       " 'Nautico': 0.284,\n",
       " 'Ipatinga': 0.237,\n",
       " 'Portuguesa': 0.272,\n",
       " 'Avai': 0.248,\n",
       " 'Santo Andre': 0.289,\n",
       " 'Barueri': 0.316,\n",
       " 'Atletico-GO': 0.271,\n",
       " 'Ceara': 0.271,\n",
       " 'Gremio Prudente': 0.184,\n",
       " 'America-MG': 0.279,\n",
       " 'Chapecoense': 0.264,\n",
       " 'Joinville': 0.184,\n",
       " 'CSA': 0.211,\n",
       " 'Bragantino': 0.333,\n",
       " 'Cuiaba': 0.263}"
      ]
     },
     "execution_count": 138,
     "metadata": {},
     "output_type": "execute_result"
    }
   ],
   "source": [
    "# Criando dicionário com as probabilidades de vitórias de todos os times\n",
    "todos = {}\n",
    "\n",
    "for time in times:\n",
    "    todos[time] = round(len(tabela[tabela['vencedor'] == time]) / (len(tabela[tabela['mandante'] == time]) + len(tabela[tabela['visitante'] == time])), 3)\n",
    "\n",
    "todos"
   ]
  },
  {
   "cell_type": "code",
   "execution_count": 147,
   "id": "2cc6cbca-b71b-4146-b0f3-384645d79444",
   "metadata": {
    "tags": []
   },
   "outputs": [],
   "source": [
    "# Função que calcula, em média, quantos jogos são necessários até a primeira vitória\n",
    "def previsao(x):\n",
    "    distribuicao = geom(x)\n",
    "    media = distribuicao.mean()\n",
    "    return round(media, 0)"
   ]
  },
  {
   "cell_type": "code",
   "execution_count": 161,
   "id": "f4b38257-271e-429a-8963-af2c99761660",
   "metadata": {
    "tags": []
   },
   "outputs": [],
   "source": [
    "equipes = ['Corinthians', 'Palmeiras', 'Santos', 'Gremio', 'Cruzeiro',\n",
    "          'Flamengo', 'Vasco', 'Cuiaba', 'Atletico-MG', 'Botafogo-RJ',\n",
    "          'Athletico-PR', 'Bahia', 'Sao Paulo', 'Fluminense', 'America-MG',\n",
    "          'Bragantino', 'Coritiba', 'Goias', 'Fortaleza', 'Internacional']"
   ]
  },
  {
   "cell_type": "code",
   "execution_count": 162,
   "id": "8bbb1b75-535e-4aec-9bfa-1de9c8939aca",
   "metadata": {
    "tags": []
   },
   "outputs": [
    {
     "data": {
      "text/plain": [
       "{'Athletico-PR': 3.0,\n",
       " 'Flamengo': 2.0,\n",
       " 'Goias': 3.0,\n",
       " 'Internacional': 2.0,\n",
       " 'Fortaleza': 3.0,\n",
       " 'Cruzeiro': 2.0,\n",
       " 'Santos': 2.0,\n",
       " 'Corinthians': 2.0,\n",
       " 'Fluminense': 3.0,\n",
       " 'Atletico-MG': 2.0,\n",
       " 'Coritiba': 3.0,\n",
       " 'Gremio': 2.0,\n",
       " 'Bahia': 3.0,\n",
       " 'Sao Paulo': 2.0,\n",
       " 'Vasco': 3.0,\n",
       " 'Botafogo-RJ': 3.0,\n",
       " 'Palmeiras': 2.0,\n",
       " 'America-MG': 4.0,\n",
       " 'Bragantino': 3.0,\n",
       " 'Cuiaba': 4.0}"
      ]
     },
     "execution_count": 162,
     "metadata": {},
     "output_type": "execute_result"
    }
   ],
   "source": [
    "# Dicionário, com todos os times, da média de jogos até a primeira vitória \n",
    "esp = {}\n",
    "for time, valor in todos.items():\n",
    "    esp[time] = previsao(valor)\n",
    "\n",
    "# Dicionário só com os participantes desse ano\n",
    "esp = {chave: valor for chave, valor in esp.items() if chave in equipes}\n",
    "esp"
   ]
  },
  {
   "cell_type": "code",
   "execution_count": 184,
   "id": "00ca13c1-417e-4ed0-adc3-9df4766f21a9",
   "metadata": {
    "tags": []
   },
   "outputs": [
    {
     "data": {
      "image/png": "[encoded data removed]",
      "text/plain": [
       "<Figure size 640x480 with 1 Axes>"
      ]
     },
     "metadata": {},
     "output_type": "display_data"
    }
   ],
   "source": [
    "# Gráfico\n",
    "x = list(esp.keys())\n",
    "y = list(esp.values())\n",
    "\n",
    "plt.scatter(x, y, marker='.') \n",
    "plt.xlabel('Times') \n",
    "plt.ylabel('Média')\n",
    "plt.title('Média de jogos até primeira vitória')\n",
    "plt.xticks(rotation=45, fontsize=7)\n",
    "plt.yticks(y)\n",
    "plt.savefig('Distribuição geométrica.png', dpi=300)\n",
    "plt.show()"
   ]
  },
  {
   "cell_type": "code",
   "execution_count": 211,
   "id": "36fe8456-24ca-4553-a9fe-aab70000793b",
   "metadata": {
    "tags": []
   },
   "outputs": [
    {
     "data": {
      "text/plain": [
       "{'-2': '5/20',\n",
       " '-1': '6/20',\n",
       " '0': '5/20',\n",
       " '1': '2/20',\n",
       " '3': '1/10',\n",
       " '10': '1/10'}"
      ]
     },
     "execution_count": 211,
     "metadata": {},
     "output_type": "execute_result"
    }
   ],
   "source": [
    "distribuicao = {'-2': '5/20',\n",
    "                '-1': '6/20',\n",
    "               '0': '5/20',\n",
    "               '1': '2/20',\n",
    "               '3': '1/10',\n",
    "               '10': '1/10'}\n",
    "\n",
    "distribuicao"
   ]
  },
  {
   "cell_type": "code",
   "execution_count": 212,
   "id": "fc7d09d9-924d-4942-9783-dfb42d8a6f88",
   "metadata": {
    "tags": []
   },
   "outputs": [
    {
     "data": {
      "image/png": "[encoded data removed]",
      "text/plain": [
       "<Figure size 640x480 with 1 Axes>"
      ]
     },
     "metadata": {},
     "output_type": "display_data"
    }
   ],
   "source": [
    "x2 = list(distribuicao.keys())\n",
    "y2 = list(distribuicao.values())\n",
    "plt.plot(x2, y2)\n",
    "plt.show()"
   ]
  }
 ],
 "metadata": {
  "kernelspec": {
   "display_name": "Python 3 (ipykernel)",
   "language": "python",
   "name": "python3"
  },
  "language_info": {
   "codemirror_mode": {
    "name": "ipython",
    "version": 3
   },
   "file_extension": ".py",
   "mimetype": "text/x-python",
   "name": "python",
   "nbconvert_exporter": "python",
   "pygments_lexer": "ipython3",
   "version": "3.11.5"
  }
 },
 "nbformat": 4,
 "nbformat_minor": 5
}
